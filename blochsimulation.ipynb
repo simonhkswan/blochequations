{
 "cells": [
  {
   "cell_type": "markdown",
   "metadata": {},
   "source": [
    "## Optical Bloch Equations without damping"
   ]
  },
  {
   "cell_type": "code",
   "execution_count": 28,
   "metadata": {},
   "outputs": [],
   "source": [
    "import numpy as np\n",
    "import scipy.integrate as sp"
   ]
  },
  {
   "cell_type": "code",
   "execution_count": 129,
   "metadata": {},
   "outputs": [],
   "source": [
    "Ω = 10\n",
    "δ = 0.1\n",
    "ρ = np.array([[1, 0.2],\n",
    "              [0.2, 0]])"
   ]
  },
  {
   "cell_type": "code",
   "execution_count": 130,
   "metadata": {},
   "outputs": [],
   "source": [
    "u = ρ[0,1]+ρ[1,0]\n",
    "v = 1j*(ρ[0,1]-ρ[1,0])\n",
    "w = ρ[0,0]-ρ[1,1]"
   ]
  },
  {
   "cell_type": "code",
   "execution_count": 131,
   "metadata": {},
   "outputs": [],
   "source": [
    "R0 = np.array([u,v,w],dtype=\"complex64\")\n",
    "W = np.array([1,0,δ/Ω],dtype=\"complex64\")\n",
    "t = np.linspace(0,10*np.pi)"
   ]
  },
  {
   "cell_type": "code",
   "execution_count": 132,
   "metadata": {},
   "outputs": [],
   "source": [
    "def dR(t,R):\n",
    "    global W\n",
    "    return np.cross(R,W)"
   ]
  },
  {
   "cell_type": "code",
   "execution_count": 133,
   "metadata": {},
   "outputs": [
    {
     "data": {
      "text/plain": [
       "<scipy.integrate._ode.complex_ode at 0x15c7cdbfa58>"
      ]
     },
     "execution_count": 133,
     "metadata": {},
     "output_type": "execute_result"
    }
   ],
   "source": [
    "bloch = sp.complex_ode(dR)\n",
    "bloch.set_initial_value(R0)"
   ]
  },
  {
   "cell_type": "code",
   "execution_count": 134,
   "metadata": {},
   "outputs": [],
   "source": [
    "R = [R0,]"
   ]
  },
  {
   "cell_type": "code",
   "execution_count": 135,
   "metadata": {},
   "outputs": [],
   "source": [
    "for i in range(10):\n",
    "    R = np.append(R,[bloch.integrate(i+1)],axis=0)"
   ]
  },
  {
   "cell_type": "code",
   "execution_count": 136,
   "metadata": {},
   "outputs": [
    {
     "name": "stdout",
     "output_type": "stream",
     "text": [
      "[[ 0.40000001+0.j  0.00000000+0.j  1.00000000+0.j]\n",
      " [ 0.40457854+0.j  0.83809283+0.j  0.54214638+0.j]\n",
      " [ 0.41410435+0.j  0.90557521+0.j -0.41043423+0.j]\n",
      " [ 0.41981858+0.j  0.14039949+0.j -0.98185726+0.j]\n",
      " [ 0.41646714+0.j -0.75386985+0.j -0.64671323+0.j]\n",
      " [ 0.40713161+0.j -0.95497081+0.j  0.28683929+0.j]\n",
      " [ 0.40039585+0.j -0.27799363+0.j  0.96041516+0.j]\n",
      " [ 0.40245324+0.j  0.65458805+0.j  0.75467650+0.j]\n",
      " [ 0.41141201+0.j  0.98528635+0.j -0.14120071+0.j]\n",
      " [ 0.41903474+0.j  0.41003378+0.j -0.90347383+0.j]\n",
      " [ 0.41831250+0.j -0.54223376+0.j -0.83124967+0.j]]\n"
     ]
    }
   ],
   "source": [
    "print(R)"
   ]
  },
  {
   "cell_type": "code",
   "execution_count": null,
   "metadata": {
    "collapsed": true
   },
   "outputs": [],
   "source": []
  }
 ],
 "metadata": {
  "kernelspec": {
   "display_name": "Python 3",
   "language": "python",
   "name": "python3"
  },
  "language_info": {
   "codemirror_mode": {
    "name": "ipython",
    "version": 3
   },
   "file_extension": ".py",
   "mimetype": "text/x-python",
   "name": "python",
   "nbconvert_exporter": "python",
   "pygments_lexer": "ipython3",
   "version": "3.6.3"
  }
 },
 "nbformat": 4,
 "nbformat_minor": 2
}
