{
 "cells": [
  {
   "cell_type": "markdown",
   "metadata": {},
   "source": [
    "## Two-electron, two-site Hubbard model"
   ]
  },
  {
   "cell_type": "code",
   "execution_count": 1,
   "metadata": {
    "collapsed": true
   },
   "outputs": [],
   "source": [
    "import numpy as np\n",
    "import matplotlib.pyplot as plt\n",
    "%matplotlib notebook"
   ]
  },
  {
   "cell_type": "code",
   "execution_count": 2,
   "metadata": {
    "collapsed": true
   },
   "outputs": [],
   "source": [
    "def hubbardE(t,i,U=1.4):\n",
    "    H = np.array([[0, 0,0,0, 0, 0],\n",
    "                  [0, 0,0,0,-t,-t],\n",
    "                  [0, 0,0,0, t, t],\n",
    "                  [0, 0,0,0, 0, 0],\n",
    "                  [0,-t,t,0, U, 0],\n",
    "                  [0,-t,t,0, 0, U]])\n",
    "    E,V = np.linalg.eig(H)\n",
    "    E_tm, T_m = E[5], V[:,5]\n",
    "    E_tp, T_p = E[4], V[:,4]\n",
    "    E_t0, T_0 = E[3], V[:,3]\n",
    "    E_s0, S_0 = E[2], V[:,2]\n",
    "    E_s1, S_1 = E[1], V[:,1]\n",
    "    E_t1, T_1 = E[0], V[:,0]\n",
    "    \n",
    "    E.sort()\n",
    "    return([E[i]])"
   ]
  },
  {
   "cell_type": "markdown",
   "metadata": {},
   "source": [
    "The 6 unnormalised eigenstates and their eigenenergies are:\n",
    "\n",
    "$$\n",
    "\\begin{align}\n",
    "T_+ &= \\;\\mid\\uparrow,\\uparrow\\rangle &: 0\\\\\n",
    "T_0 &= \\;\\mid\\uparrow,\\downarrow\\rangle+\\mid\\downarrow,\\uparrow\\rangle &: 0\\\\\n",
    "T_- &= \\;\\mid\\downarrow,\\downarrow\\rangle &: 0\\\\\n",
    "S_0 &= \\frac{2t}{E_{S_0}}\\big(\\mid\\uparrow,\\downarrow\\rangle-\\mid\\downarrow,\\uparrow\\rangle\\big)+\\mid\\uparrow\\downarrow,0\\rangle+\\mid0,\\uparrow\\downarrow\\rangle &: \\frac{1}{2}\\big(U-\\sqrt{16t^2+U^2}\\big)\\\\\n",
    "S_1 &= \\;\\mid\\uparrow\\downarrow,0\\rangle+\\mid0,\\uparrow\\downarrow\\rangle &: U\\\\\n",
    "T_1 &= \\frac{2t}{E_{T_1}}\\big(\\mid\\uparrow,\\downarrow\\rangle-\\mid\\downarrow,\\uparrow\\rangle\\big)+\\mid\\uparrow\\downarrow,0\\rangle+\\mid0,\\uparrow\\downarrow\\rangle &: \\frac{1}{2}\\big(U+\\sqrt{16t^2+U^2}\\big)\\\\\n",
    "\\end{align}\n",
    "$$"
   ]
  },
  {
   "cell_type": "code",
   "execution_count": 3,
   "metadata": {},
   "outputs": [
    {
     "data": {
      "image/png": "[encoded data removed]",
      "text/plain": [
       "<matplotlib.figure.Figure at 0x10651afd0>"
      ]
     },
     "metadata": {},
     "output_type": "display_data"
    }
   ],
   "source": [
    "E0,E1,E2,E3,E4,E5 = [],[],[],[],[],[]\n",
    "T = np.linspace(-0.5,0.5,50)\n",
    "for t in T:\n",
    "    E0.append(hubbardE(t,0))\n",
    "    E1.append(hubbardE(t,1))\n",
    "    E2.append(hubbardE(t,2))\n",
    "    E3.append(hubbardE(t,3))\n",
    "    E4.append(hubbardE(t,4))\n",
    "    E5.append(hubbardE(t,5))\n",
    "\n",
    "fig1 = plt.figure(1)\n",
    "ax = fig1.gca()\n",
    "ax.plot(T,E0)\n",
    "ax.plot(T,E1)\n",
    "ax.plot(T,E2)\n",
    "ax.plot(T,E3)\n",
    "ax.plot(T,E4)\n",
    "ax.plot(T,E5)\n",
    "ax.set_title(\"Energy Levels of two-electron two-site System\")\n",
    "ax.set_ylabel(\"Energy\")\n",
    "ax.set_xlabel(\"t\")\n",
    "plt.show()"
   ]
  },
  {
   "cell_type": "markdown",
   "metadata": {},
   "source": [
    "With the eigevalues/energies calculated we can plot the evolution of the state $\\;\\mid\\uparrow\\downarrow\\rangle$."
   ]
  },
  {
   "cell_type": "code",
   "execution_count": null,
   "metadata": {
    "collapsed": true
   },
   "outputs": [],
   "source": []
  }
 ],
 "metadata": {
  "kernelspec": {
   "display_name": "Python 3",
   "language": "python",
   "name": "python3"
  },
  "language_info": {
   "codemirror_mode": {
    "name": "ipython",
    "version": 3
   },
   "file_extension": ".py",
   "mimetype": "text/x-python",
   "name": "python",
   "nbconvert_exporter": "python",
   "pygments_lexer": "ipython3",
   "version": "3.6.3"
  }
 },
 "nbformat": 4,
 "nbformat_minor": 2
}
